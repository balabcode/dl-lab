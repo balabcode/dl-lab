{
 "cells": [
  {
   "cell_type": "code",
   "execution_count": 1,
   "metadata": {},
   "outputs": [],
   "source": [
    "import torch\n",
    "import matplotlib.pyplot as plt\n",
    "import torch.nn as nn\n",
    "import numpy as np\n",
    "from torch.utils.data import Dataset, DataLoader\n",
    "\n",
    "device = \"cuda\" if torch.cuda.is_available() else \"cpu\""
   ]
  },
  {
   "cell_type": "markdown",
   "metadata": {},
   "source": [
    "## Q1\n",
    "Implement two layer Feed Forward Neural Network for XOR Logic Gate with 2-bit Binary\n",
    "Input using Sigmoid activation. Verify the number of learnable parameters in the model."
   ]
  },
  {
   "cell_type": "code",
   "execution_count": 45,
   "metadata": {},
   "outputs": [
    {
     "name": "stdout",
     "output_type": "stream",
     "text": [
      "XORModel(\n",
      "  (lin1): Linear(in_features=2, out_features=2, bias=True)\n",
      "  (act1): Sigmoid()\n",
      "  (lin2): Linear(in_features=2, out_features=1, bias=True)\n",
      ")\n",
      "Input: tensor([[0., 1.]], device='cuda:0'), Target: tensor([1.], device='cuda:0'), Predicted: 1.0\n",
      "Input: tensor([[0., 0.]], device='cuda:0'), Target: tensor([0.], device='cuda:0'), Predicted: 0.0\n",
      "Input: tensor([[1., 1.]], device='cuda:0'), Target: tensor([0.], device='cuda:0'), Predicted: 0.0\n",
      "Input: tensor([[1., 0.]], device='cuda:0'), Target: tensor([1.], device='cuda:0'), Predicted: 1.0\n"
     ]
    }
   ],
   "source": [
    "X = torch.tensor([[0,0], [0,1], [1,0], [1,1]], dtype=torch.float32)\n",
    "Y = torch.tensor([0,1,1,0], dtype=torch.float32)\n",
    "\n",
    "class XORModel(nn.Module):\n",
    "    def __init__(self):\n",
    "        super(XORModel, self).__init__()\n",
    "        # self.w = torch.nn.Parameter(torch.rand([1]))\n",
    "        # self.b = torch.nn.Parameter(torch.rand([1]))\n",
    "\n",
    "        self.lin1 = nn.Linear(2, 2, bias=True)\n",
    "        self.act1 = nn.Sigmoid()\n",
    "        self.lin2 = nn.Linear(2, 1, bias=True)\n",
    "        # self.act2 = nn.Sigmoid()\n",
    "    def forward(self, x):\n",
    "        x = self.lin1(x)\n",
    "        x = self.act1(x)\n",
    "        x = self.lin2(x)\n",
    "        # x = self.act2(x)\n",
    "        return x\n",
    "\n",
    "class XORDataset(Dataset):\n",
    "    def __init__(self, X, Y):\n",
    "        self.X = X\n",
    "        self.Y = Y\n",
    "    \n",
    "    def __len__(self):\n",
    "        return len(self.X)\n",
    "    \n",
    "    def __getitem__(self, index):\n",
    "        return self.X[index].to(device), self.Y[index].to(device)\n",
    "    \n",
    "xordata = XORDataset(X, Y)\n",
    "train_dl = DataLoader(xordata, batch_size=1, shuffle=True)\n",
    "model = XORModel().to(device)\n",
    "print(model)\n",
    "\n",
    "loss_fn = torch.nn.MSELoss()\n",
    "optimizer = torch.optim.SGD(model.parameters(), lr=0.03)\n",
    "\n",
    "epochs = 10000\n",
    "loss_list = []\n",
    "for epoch in range(epochs):\n",
    "    avg_loss = 0.0\n",
    "    model.train()\n",
    "\n",
    "    for inputs, targets in train_dl:\n",
    "        optimizer.zero_grad()\n",
    "        outputs = model(inputs)\n",
    "        outputs = outputs.view(-1)\n",
    "        loss = loss_fn(outputs, targets)\n",
    "        loss.backward()\n",
    "        avg_loss += loss.item()\n",
    "        optimizer.step()\n",
    "    loss_list.append(avg_loss/4)\n",
    "\n",
    "with torch.no_grad():\n",
    "    for inputs, targets in train_dl:\n",
    "        outputs = model(inputs)\n",
    "        outputs = outputs.squeeze().round()\n",
    "        print(f\"Input: {inputs}, Target: {targets}, Predicted: {outputs}\")"
   ]
  },
  {
   "cell_type": "code",
   "execution_count": 46,
   "metadata": {},
   "outputs": [
    {
     "data": {
      "text/plain": [
       "[<matplotlib.lines.Line2D at 0x7ad4fd534650>]"
      ]
     },
     "execution_count": 46,
     "metadata": {},
     "output_type": "execute_result"
    },
    {
     "data": {
      "image/png": "[encoded data removed]",
      "text/plain": [
       "<Figure size 640x480 with 1 Axes>"
      ]
     },
     "metadata": {},
     "output_type": "display_data"
    }
   ],
   "source": [
    "total_params = sum(p.numel() for p in model.parameters())\n",
    "total_params\n",
    "\n",
    "plt.plot(loss_list)"
   ]
  },
  {
   "cell_type": "markdown",
   "metadata": {},
   "source": [
    "## Q2\n",
    "Repeat Qn 1 by modifying the activation function to ReLU."
   ]
  },
  {
   "cell_type": "code",
   "execution_count": 41,
   "metadata": {},
   "outputs": [
    {
     "name": "stdout",
     "output_type": "stream",
     "text": [
      "XORModel(\n",
      "  (lin1): Linear(in_features=2, out_features=2, bias=True)\n",
      "  (act1): Sigmoid()\n",
      "  (lin2): Linear(in_features=2, out_features=1, bias=True)\n",
      "  (act2): ReLU()\n",
      ")\n",
      "Input: tensor([[0., 0.]], device='cuda:0'), Target: tensor([0.], device='cuda:0'), Predicted: 0.0\n",
      "Input: tensor([[1., 0.]], device='cuda:0'), Target: tensor([1.], device='cuda:0'), Predicted: 1.0\n",
      "Input: tensor([[1., 1.]], device='cuda:0'), Target: tensor([0.], device='cuda:0'), Predicted: 0.0\n",
      "Input: tensor([[0., 1.]], device='cuda:0'), Target: tensor([1.], device='cuda:0'), Predicted: 1.0\n"
     ]
    }
   ],
   "source": [
    "X = torch.tensor([[0,0], [0,1], [1,0], [1,1]], dtype=torch.float32)\n",
    "Y = torch.tensor([0,1,1,0], dtype=torch.float32)\n",
    "\n",
    "class XORModel(nn.Module):\n",
    "    def __init__(self):\n",
    "        super(XORModel, self).__init__()\n",
    "\n",
    "        self.lin1 = nn.Linear(2, 2, bias=True)\n",
    "        self.act1 = nn.Sigmoid()\n",
    "        self.lin2 = nn.Linear(2, 1, bias=True)\n",
    "        self.act2 = nn.ReLU()\n",
    "    def forward(self, x):\n",
    "        x = self.lin1(x)\n",
    "        x = self.act1(x)\n",
    "        x = self.lin2(x)\n",
    "        x = self.act2(x)\n",
    "        return x\n",
    "\n",
    "class XORDataset(Dataset):\n",
    "    def __init__(self, X, Y):\n",
    "        self.X = X\n",
    "        self.Y = Y\n",
    "    \n",
    "    def __len__(self):\n",
    "        return len(self.X)\n",
    "    \n",
    "    def __getitem__(self, index):\n",
    "        return self.X[index].to(device), self.Y[index].to(device)\n",
    "    \n",
    "xordata = XORDataset(X, Y)\n",
    "train_dl = DataLoader(xordata, batch_size=1, shuffle=True)\n",
    "model = XORModel().to(device)\n",
    "print(model)\n",
    "\n",
    "loss_fn = torch.nn.MSELoss()\n",
    "optimizer = torch.optim.SGD(model.parameters(), lr=0.03)\n",
    "\n",
    "epochs = 10000\n",
    "loss_list = []\n",
    "\n",
    "for epoch in range(epochs):\n",
    "    avg_loss = 0.0\n",
    "    model.train()\n",
    "\n",
    "    for inputs, targets in train_dl:\n",
    "        optimizer.zero_grad()\n",
    "        outputs = model(inputs)\n",
    "        outputs = outputs.view(-1)\n",
    "        loss = loss_fn(outputs, targets)\n",
    "        loss.backward()\n",
    "        avg_loss += loss.item()\n",
    "        optimizer.step()\n",
    "    loss_list.append(avg_loss/4)\n",
    "\n",
    "with torch.no_grad():\n",
    "    for inputs, targets in train_dl:\n",
    "        outputs = model(inputs)\n",
    "        outputs = outputs.squeeze().round()\n",
    "        print(f\"Input: {inputs}, Target: {targets}, Predicted: {outputs}\")"
   ]
  },
  {
   "cell_type": "code",
   "execution_count": 42,
   "metadata": {},
   "outputs": [
    {
     "data": {
      "text/plain": [
       "[<matplotlib.lines.Line2D at 0x7ad50003c650>]"
      ]
     },
     "execution_count": 42,
     "metadata": {},
     "output_type": "execute_result"
    },
    {
     "data": {
      "image/png": "[encoded data removed]",
      "text/plain": [
       "<Figure size 640x480 with 1 Axes>"
      ]
     },
     "metadata": {},
     "output_type": "display_data"
    }
   ],
   "source": [
    "total_params = sum(p.numel() for p in model.parameters())\n",
    "total_params\n",
    "\n",
    "plt.plot(loss_list)"
   ]
  },
  {
   "cell_type": "markdown",
   "metadata": {},
   "source": [
    "## Q3\n",
    "Manually verify the output values by taking system generated values of weights and biases\n",
    "for both Linear1 and Linear2 layers for Qn 1 and apply the transformations to input X and\n",
    "implement the same."
   ]
  },
  {
   "cell_type": "code",
   "execution_count": 16,
   "metadata": {},
   "outputs": [],
   "source": [
    "w1 = model.lin1.weight.data\n",
    "b1 = model.lin1.bias.data\n",
    "w2 = model.lin2.weight.data\n",
    "b2 = model.lin2.bias.data"
   ]
  },
  {
   "cell_type": "code",
   "execution_count": 28,
   "metadata": {},
   "outputs": [
    {
     "name": "stdout",
     "output_type": "stream",
     "text": [
      "Input: tensor([[0., 0.]], device='cuda:0'), Target: tensor([0.], device='cuda:0'), Predicted: 0.0\n",
      "Input: tensor([[1., 1.]], device='cuda:0'), Target: tensor([0.], device='cuda:0'), Predicted: 0.0\n",
      "Input: tensor([[1., 0.]], device='cuda:0'), Target: tensor([1.], device='cuda:0'), Predicted: 1.0\n",
      "Input: tensor([[0., 1.]], device='cuda:0'), Target: tensor([1.], device='cuda:0'), Predicted: 1.0\n"
     ]
    }
   ],
   "source": [
    "for inputs, targets in train_dl:\n",
    "    out1 = torch.matmul(inputs, w1.T) + b1\n",
    "    out1 = torch.sigmoid(out1)\n",
    "    out2 = torch.matmul(out1, w2.T) + b2\n",
    "    out = out2.squeeze().round()\n",
    "    print(f\"Input: {inputs}, Target: {targets}, Predicted: {out}\")"
   ]
  },
  {
   "cell_type": "markdown",
   "metadata": {},
   "source": [
    "## Q4\n",
    "Implement Feed Forward Neural Network with two hidden layers for classifying\n",
    "handwritten digits using MNIST dataset. Display the classification accuracy in the form\n",
    "of a Confusion matrix. Verify the number of learnable parameters in the model."
   ]
  },
  {
   "cell_type": "code",
   "execution_count": 53,
   "metadata": {},
   "outputs": [
    {
     "name": "stdout",
     "output_type": "stream",
     "text": [
      "\n",
      "Test Accuracy: 97.71%\n",
      "\n",
      "Confusion Matrix:\n",
      "[[ 974    0    1    0    0    0    3    1    1    0]\n",
      " [   3 1114    3    1    0    2    8    2    2    0]\n",
      " [   5    1 1011    2    1    0    3    7    2    0]\n",
      " [   1    0    2  999    0    1    0    5    2    0]\n",
      " [   5    0    3    0  955    0    7    3    2    7]\n",
      " [   3    0    0   10    1  868    5    1    3    1]\n",
      " [   4    2    0    1    1    2  948    0    0    0]\n",
      " [   2    2    9    3    1    1    0 1004    2    4]\n",
      " [   8    0    2    9    0    2    9    4  939    1]\n",
      " [   3    2    0   13    8    5    2   11    6  959]]\n",
      "\n",
      "Learnable Parameters: 235,146\n"
     ]
    }
   ],
   "source": [
    "import torch\n",
    "from torch import nn, optim\n",
    "from torch.utils.data import DataLoader\n",
    "from torchvision import datasets, transforms\n",
    "from sklearn.metrics import confusion_matrix\n",
    "\n",
    "config = {\n",
    "    'input_size': 784,\n",
    "    'hidden_sizes': [256, 128],\n",
    "    'num_classes': 10,\n",
    "    'epochs': 10,\n",
    "    'batch_size': 100,\n",
    "    'lr': 0.001,\n",
    "    'device': 'cuda' if torch.cuda.is_available() else 'cpu'\n",
    "}\n",
    "\n",
    "transform = transforms.Compose([\n",
    "    transforms.ToTensor(),\n",
    "    transforms.Normalize((0.1307,), (0.3081,))\n",
    "])\n",
    "\n",
    "train_data = datasets.MNIST('data', train=True, download=True, transform=transform)\n",
    "test_data = datasets.MNIST('data', train=False, transform=transform)\n",
    "\n",
    "train_loader = DataLoader(train_data, batch_size=config['batch_size'], shuffle=True)\n",
    "test_loader = DataLoader(test_data, batch_size=config['batch_size'])\n",
    "\n",
    "class MNISTNet(nn.Module):\n",
    "    def __init__(self):\n",
    "        super().__init__()\n",
    "        self.net = nn.Sequential(\n",
    "            nn.Flatten(),\n",
    "            nn.Linear(config['input_size'], config['hidden_sizes'][0]),\n",
    "            nn.ReLU(),\n",
    "            nn.Linear(config['hidden_sizes'][0], config['hidden_sizes'][1]),\n",
    "            nn.ReLU(),\n",
    "            nn.Linear(config['hidden_sizes'][1], config['num_classes'])\n",
    "        )\n",
    "        \n",
    "    def forward(self, x):\n",
    "        return self.net(x)\n",
    "\n",
    "model = MNISTNet().to(config['device'])\n",
    "criterion = nn.CrossEntropyLoss()\n",
    "optimizer = optim.Adam(model.parameters(), lr=config['lr'])\n",
    "\n",
    "for epoch in range(config['epochs']):\n",
    "    for images, labels in train_loader:\n",
    "        images, labels = images.to(config['device']), labels.to(config['device'])\n",
    "        \n",
    "        outputs = model(images)\n",
    "        loss = criterion(outputs, labels)\n",
    "        \n",
    "        optimizer.zero_grad()\n",
    "        loss.backward()\n",
    "        optimizer.step()\n",
    "\n",
    "model.eval()\n",
    "all_preds, all_labels = [], []\n",
    "\n",
    "with torch.no_grad():\n",
    "    for images, labels in test_loader:\n",
    "        images, labels = images.to(config['device']), labels.to(config['device'])\n",
    "        outputs = model(images)\n",
    "        preds = torch.argmax(outputs, dim=1)\n",
    "        \n",
    "        all_preds.extend(preds.cpu())\n",
    "        all_labels.extend(labels.cpu())\n",
    "\n",
    "print(f\"\\nTest Accuracy: {100 * (torch.tensor(all_preds) == torch.tensor(all_labels)).float().mean():.2f}%\")\n",
    "print(\"\\nConfusion Matrix:\")\n",
    "print(confusion_matrix(all_labels, all_preds))\n",
    "\n",
    "params = sum(p.numel() for p in model.parameters() if p.requires_grad)\n",
    "print(f\"\\nLearnable Parameters: {params:,}\")"
   ]
  },
  {
   "cell_type": "code",
   "execution_count": null,
   "metadata": {},
   "outputs": [],
   "source": []
  }
 ],
 "metadata": {
  "kernelspec": {
   "display_name": "dl-lab",
   "language": "python",
   "name": "python3"
  },
  "language_info": {
   "codemirror_mode": {
    "name": "ipython",
    "version": 3
   },
   "file_extension": ".py",
   "mimetype": "text/x-python",
   "name": "python",
   "nbconvert_exporter": "python",
   "pygments_lexer": "ipython3",
   "version": "3.12.3"
  }
 },
 "nbformat": 4,
 "nbformat_minor": 2
}
