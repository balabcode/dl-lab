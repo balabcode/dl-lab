{
 "cells": [
  {
   "cell_type": "code",
   "execution_count": 2,
   "id": "08e979b2",
   "metadata": {},
   "outputs": [],
   "source": [
    "import torch"
   ]
  },
  {
   "cell_type": "markdown",
   "id": "acf8dcc0",
   "metadata": {},
   "source": [
    "\n",
    "1. Illustrate the functions for Reshaping, viewing, stacking, squeezing and unsqueezing of tensors\n",
    "2. Illustrate the use of torch.permute().\n",
    "3. Illustrate indexing in tensors\n",
    "4. Show how numpy arrays are converted to tensors and back again to numpy arrays\n",
    "5. Create a random tensor with shape (7, 7).\n",
    "6. Perform a matrix multiplication on the tensor from 2 with another random tensor with shape (1, 7) (hint: you may have to transpose the second tensor).\n",
    "7. Create two random tensors of shape (2, 3) and send them both to the GPU (you'll need access to a GPU for this).\n",
    "8. Perform a matrix multiplication on the tensors you created in 6 (again, you may have to adjust the shapes of one of the tensors).\n",
    "9. Find the maximum and minimum values of the output of 7.\n",
    "10. Find the maximum and minimum index values of the output of 7.\n",
    "11. Make a random tensor with shape (1, 1, 1, 10) and then create a new tensor with all the 1 dimensions removed to be left with a tensor of shape (10). Set the seed to 7 when you create it and print out the first tensor and it's shape as well as the second tensor and it's shape."
   ]
  },
  {
   "cell_type": "code",
   "execution_count": 6,
   "id": "c7df71da",
   "metadata": {},
   "outputs": [
    {
     "name": "stdout",
     "output_type": "stream",
     "text": [
      "tensor([1, 2, 3, 4, 5, 6, 7, 8])\n",
      "tensor([[1, 2, 3, 4],\n",
      "        [5, 6, 7, 8]])\n",
      "tensor([[1, 2],\n",
      "        [3, 4],\n",
      "        [5, 6],\n",
      "        [7, 8]])\n",
      "tensor([[1, 2, 3, 4, 5, 6, 7, 8],\n",
      "        [8, 7, 6, 5, 4, 3, 2, 1]])\n",
      "tensor([[1, 2, 3, 4, 5, 6, 7, 8]])\n",
      "tensor([1, 2, 3, 4, 5, 6, 7, 8])\n"
     ]
    }
   ],
   "source": [
    "# 1. Illustrate the functions for Reshaping, viewing, stacking, squeezing and unsqueezing of tensors\n",
    "\n",
    "x = torch.tensor([1,2,3,4,5,6,7,8])\n",
    "print(x)\n",
    "\n",
    "a = torch.reshape(x, (2,4))\n",
    "print(a)\n",
    "\n",
    "b = x.view(4,2)\n",
    "print(b)\n",
    "\n",
    "y = torch.tensor([8,7,6,5,4,3,2,1])\n",
    "c = torch.stack((x, y))\n",
    "print(c)\n",
    "\n",
    "d = x.unsqueeze(0)\n",
    "print(d)\n",
    "\n",
    "e = x.squeeze(0)\n",
    "print(e)"
   ]
  },
  {
   "cell_type": "code",
   "execution_count": 20,
   "id": "c439ab6c",
   "metadata": {},
   "outputs": [
    {
     "name": "stdout",
     "output_type": "stream",
     "text": [
      "tensor([[0.8235],\n",
      "        [0.8607],\n",
      "        [0.7482],\n",
      "        [0.4869],\n",
      "        [0.3844],\n",
      "        [0.1196],\n",
      "        [0.6136],\n",
      "        [0.5091],\n",
      "        [0.9383],\n",
      "        [0.6511],\n",
      "        [0.0441],\n",
      "        [0.8830],\n",
      "        [0.9470],\n",
      "        [0.1353],\n",
      "        [0.8026]])\n"
     ]
    }
   ],
   "source": [
    "# 2. Illustrate the use of torch.permute().\n",
    "\n",
    "f = torch.permute(torch.rand(1,15), (1,0))\n",
    "print(f)"
   ]
  },
  {
   "cell_type": "code",
   "execution_count": 13,
   "id": "8748356c",
   "metadata": {},
   "outputs": [
    {
     "name": "stdout",
     "output_type": "stream",
     "text": [
      "tensor(2)\n"
     ]
    }
   ],
   "source": [
    "# 3. Illustrate indexing in tensors\n",
    "print(x[1])"
   ]
  },
  {
   "cell_type": "code",
   "execution_count": 17,
   "id": "f018b811",
   "metadata": {},
   "outputs": [
    {
     "name": "stdout",
     "output_type": "stream",
     "text": [
      "[1 2 3 4 5 6 7 8]\n",
      "tensor([1, 2, 3, 4, 5, 6, 7, 8])\n"
     ]
    }
   ],
   "source": [
    "# 4. Show how numpy arrays are converted to tensors and back again to numpy arrays\n",
    "x_numpy = x.numpy()\n",
    "print(x_numpy)\n",
    "\n",
    "print(torch.tensor(x_numpy))"
   ]
  },
  {
   "cell_type": "code",
   "execution_count": 18,
   "id": "9153aa30",
   "metadata": {},
   "outputs": [
    {
     "name": "stdout",
     "output_type": "stream",
     "text": [
      "tensor([[0.7150, 0.4120, 0.1911, 0.6737, 0.2564, 0.0941, 0.1654],\n",
      "        [0.8229, 0.1028, 0.1287, 0.3222, 0.3788, 0.7435, 0.4632],\n",
      "        [0.7434, 0.1306, 0.9717, 0.8176, 0.2788, 0.2249, 0.9141],\n",
      "        [0.8360, 0.7689, 0.7021, 0.6955, 0.4066, 0.3882, 0.3857],\n",
      "        [0.2220, 0.2081, 0.3339, 0.7012, 0.2692, 0.3479, 0.0757],\n",
      "        [0.1755, 0.1983, 0.7038, 0.9828, 0.5562, 0.6484, 0.6930],\n",
      "        [0.5129, 0.7152, 0.1192, 0.7621, 0.4944, 0.4545, 0.2721]])\n"
     ]
    }
   ],
   "source": [
    "# 5. Create a random tensor with shape (7, 7).\n",
    "print(torch.rand(7,7))"
   ]
  },
  {
   "cell_type": "code",
   "execution_count": 23,
   "id": "9558f3d1",
   "metadata": {},
   "outputs": [
    {
     "data": {
      "text/plain": [
       "tensor([[0.4927, 0.3538, 0.1018, 0.1310, 0.5733, 0.8031, 0.1505],\n",
       "        [0.5150, 0.3698, 0.1064, 0.1369, 0.5992, 0.8395, 0.1573],\n",
       "        [0.4477, 0.3215, 0.0925, 0.1190, 0.5209, 0.7298, 0.1367],\n",
       "        [0.2913, 0.2092, 0.0602, 0.0775, 0.3389, 0.4748, 0.0890],\n",
       "        [0.2300, 0.1652, 0.0475, 0.0612, 0.2676, 0.3749, 0.0702],\n",
       "        [0.0716, 0.0514, 0.0148, 0.0190, 0.0833, 0.1167, 0.0219],\n",
       "        [0.3671, 0.2636, 0.0758, 0.0976, 0.4271, 0.5984, 0.1121],\n",
       "        [0.3046, 0.2187, 0.0629, 0.0810, 0.3544, 0.4965, 0.0930],\n",
       "        [0.5614, 0.4032, 0.1159, 0.1493, 0.6532, 0.9151, 0.1714],\n",
       "        [0.3896, 0.2798, 0.0805, 0.1036, 0.4533, 0.6350, 0.1190],\n",
       "        [0.0264, 0.0190, 0.0054, 0.0070, 0.0307, 0.0430, 0.0081],\n",
       "        [0.5283, 0.3794, 0.1091, 0.1405, 0.6147, 0.8612, 0.1613],\n",
       "        [0.5667, 0.4069, 0.1170, 0.1507, 0.6593, 0.9237, 0.1730],\n",
       "        [0.0810, 0.0581, 0.0167, 0.0215, 0.0942, 0.1320, 0.0247],\n",
       "        [0.4802, 0.3448, 0.0992, 0.1277, 0.5587, 0.7828, 0.1466]])"
      ]
     },
     "execution_count": 23,
     "metadata": {},
     "output_type": "execute_result"
    }
   ],
   "source": [
    "# 6. Perform a matrix multiplication on the tensor from 2 with another random tensor with shape (1, 7) (hint: you may have to transpose the second tensor).\n",
    "g = torch.matmul(f, torch.rand(1, 7))\n",
    "g"
   ]
  },
  {
   "cell_type": "code",
   "execution_count": 24,
   "id": "71eaf843",
   "metadata": {},
   "outputs": [
    {
     "name": "stdout",
     "output_type": "stream",
     "text": [
      "tensor([[0.7162, 0.4483, 0.1015],\n",
      "        [0.4621, 0.7848, 0.7272]], device='cuda:0')\n",
      "tensor([[0.4813, 0.8178, 0.5496],\n",
      "        [0.3843, 0.8252, 0.3097]], device='cuda:0')\n"
     ]
    }
   ],
   "source": [
    "# 7. Create two random tensors of shape (2, 3) and send them both to the GPU (you'll need access to a GPU for this).\n",
    "\n",
    "h = torch.rand(2,3).to(\"cuda\")\n",
    "i = torch.rand(2,3).to(\"cuda\")\n",
    "\n",
    "print(h)\n",
    "print(i)"
   ]
  },
  {
   "cell_type": "code",
   "execution_count": 26,
   "id": "3cdf3df7",
   "metadata": {},
   "outputs": [
    {
     "data": {
      "text/plain": [
       "tensor([[1.3918, 1.4547, 1.2646, 0.8229, 0.6497, 0.2022, 1.0370, 0.8605, 1.5859,\n",
       "         1.1005, 0.0745, 1.4923, 1.6006, 0.2287, 1.3565],\n",
       "        [1.4547, 1.5205, 1.3218, 0.8601, 0.6791, 0.2114, 1.0839, 0.8994, 1.6576,\n",
       "         1.1503, 0.0779, 1.5598, 1.6730, 0.2390, 1.4179],\n",
       "        [1.2646, 1.3218, 1.1491, 0.7477, 0.5903, 0.1837, 0.9422, 0.7818, 1.4410,\n",
       "         0.9999, 0.0677, 1.3560, 1.4544, 0.2078, 1.2326],\n",
       "        [0.8229, 0.8601, 0.7477, 0.4865, 0.3841, 0.1196, 0.6131, 0.5087, 0.9376,\n",
       "         0.6506, 0.0441, 0.8823, 0.9463, 0.1352, 0.8020],\n",
       "        [0.6497, 0.6791, 0.5903, 0.3841, 0.3033, 0.0944, 0.4841, 0.4016, 0.7403,\n",
       "         0.5137, 0.0348, 0.6966, 0.7472, 0.1068, 0.6332],\n",
       "        [0.2022, 0.2114, 0.1837, 0.1196, 0.0944, 0.0294, 0.1507, 0.1250, 0.2304,\n",
       "         0.1599, 0.0108, 0.2168, 0.2326, 0.0332, 0.1971],\n",
       "        [1.0370, 1.0839, 0.9422, 0.6131, 0.4841, 0.1507, 0.7726, 0.6411, 1.1816,\n",
       "         0.8199, 0.0555, 1.1119, 1.1926, 0.1704, 1.0107],\n",
       "        [0.8605, 0.8994, 0.7818, 0.5087, 0.4016, 0.1250, 0.6411, 0.5320, 0.9804,\n",
       "         0.6803, 0.0461, 0.9226, 0.9896, 0.1414, 0.8386],\n",
       "        [1.5859, 1.6576, 1.4410, 0.9376, 0.7403, 0.2304, 1.1816, 0.9804, 1.8071,\n",
       "         1.2540, 0.0849, 1.7005, 1.8239, 0.2606, 1.5457],\n",
       "        [1.1005, 1.1503, 0.9999, 0.6506, 0.5137, 0.1599, 0.8199, 0.6803, 1.2540,\n",
       "         0.8701, 0.0589, 1.1800, 1.2656, 0.1808, 1.0726],\n",
       "        [0.0745, 0.0779, 0.0677, 0.0441, 0.0348, 0.0108, 0.0555, 0.0461, 0.0849,\n",
       "         0.0589, 0.0040, 0.0799, 0.0857, 0.0122, 0.0727],\n",
       "        [1.4923, 1.5598, 1.3560, 0.8823, 0.6966, 0.2168, 1.1119, 0.9226, 1.7005,\n",
       "         1.1800, 0.0799, 1.6001, 1.7163, 0.2452, 1.4545],\n",
       "        [1.6006, 1.6730, 1.4544, 0.9463, 0.7472, 0.2326, 1.1926, 0.9896, 1.8239,\n",
       "         1.2656, 0.0857, 1.7163, 1.8408, 0.2630, 1.5601],\n",
       "        [0.2287, 0.2390, 0.2078, 0.1352, 0.1068, 0.0332, 0.1704, 0.1414, 0.2606,\n",
       "         0.1808, 0.0122, 0.2452, 0.2630, 0.0376, 0.2229],\n",
       "        [1.3565, 1.4179, 1.2326, 0.8020, 0.6332, 0.1971, 1.0107, 0.8386, 1.5457,\n",
       "         1.0726, 0.0727, 1.4545, 1.5601, 0.2229, 1.3222]])"
      ]
     },
     "execution_count": 26,
     "metadata": {},
     "output_type": "execute_result"
    }
   ],
   "source": [
    "# 8. Perform a matrix multiplication on the tensors you created in 6 (again, you may have to adjust the shapes of one of the tensors).\n",
    "j = torch.matmul(g, g.T)\n",
    "j"
   ]
  },
  {
   "cell_type": "code",
   "execution_count": 28,
   "id": "b05bc3eb",
   "metadata": {},
   "outputs": [
    {
     "name": "stdout",
     "output_type": "stream",
     "text": [
      "tensor(0.7848, device='cuda:0')\n",
      "tensor(0.1015, device='cuda:0')\n"
     ]
    }
   ],
   "source": [
    "# 9. Find the maximum and minimum values of the output of 7.\n",
    "\n",
    "print(torch.max(h))\n",
    "print(torch.min(h))"
   ]
  },
  {
   "cell_type": "code",
   "execution_count": 31,
   "id": "34f9995b",
   "metadata": {},
   "outputs": [
    {
     "name": "stdout",
     "output_type": "stream",
     "text": [
      "tensor(4, device='cuda:0')\n",
      "tensor(2, device='cuda:0')\n"
     ]
    }
   ],
   "source": [
    "# 10. Find the maximum and minimum index values of the output of 7.\n",
    "print(torch.argmax(h))\n",
    "print(torch.argmin(h))"
   ]
  },
  {
   "cell_type": "code",
   "execution_count": 34,
   "id": "3ccbf873",
   "metadata": {},
   "outputs": [
    {
     "name": "stdout",
     "output_type": "stream",
     "text": [
      "tensor([[[[0.5349, 0.1988, 0.6592, 0.6569, 0.2328, 0.4251, 0.2071, 0.6297,\n",
      "           0.3653, 0.8513]]]])\n",
      "torch.Size([1, 1, 1, 10])\n",
      "----\n",
      "tensor([0.5349, 0.1988, 0.6592, 0.6569, 0.2328, 0.4251, 0.2071, 0.6297, 0.3653,\n",
      "        0.8513])\n",
      "torch.Size([10])\n"
     ]
    }
   ],
   "source": [
    "# Make a random tensor with shape (1, 1, 1, 10) and then create a new tensor with all the 1 dimensions removed to be left with a tensor of shape (10). Set the seed to 7 when you create it and print out the first tensor and it's shape as well as the second tensor and it's shape.\n",
    "torch.manual_seed(7)\n",
    "k = torch.rand((1,1,1,10))\n",
    "l = k[0,0,0,:]\n",
    "\n",
    "print(k)\n",
    "print(k.shape)\n",
    "\n",
    "print('----')\n",
    "\n",
    "print(l)\n",
    "print(l.shape)\n"
   ]
  }
 ],
 "metadata": {
  "kernelspec": {
   "display_name": "dl-lab",
   "language": "python",
   "name": "python3"
  },
  "language_info": {
   "codemirror_mode": {
    "name": "ipython",
    "version": 3
   },
   "file_extension": ".py",
   "mimetype": "text/x-python",
   "name": "python",
   "nbconvert_exporter": "python",
   "pygments_lexer": "ipython3",
   "version": "3.12.3"
  }
 },
 "nbformat": 4,
 "nbformat_minor": 5
}
